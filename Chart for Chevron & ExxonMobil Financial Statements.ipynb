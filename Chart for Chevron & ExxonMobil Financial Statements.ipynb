{
 "cells": [
  {
   "cell_type": "code",
   "execution_count": 8,
   "metadata": {},
   "outputs": [],
   "source": [
    "import pandas\n",
    "import pandas as pd\n",
    "import numpy as np\n",
    "import matplotlib.pyplot as mp\n",
    "import plotly.express as px\n",
    "import plotly.io as pio\n",
    "import requests\n",
    "import statistics\n",
    "\n",
    "from matplotlib import pyplot as plt"
   ]
  },
  {
   "cell_type": "code",
   "execution_count": 20,
   "metadata": {},
   "outputs": [],
   "source": [
    "Chevron = pandas.read_csv('Chevron-Financial-Statements-.csv')\n",
    "Exxon = pandas.read_csv('Exxon_Financial_Statements.csv')\n",
    "CF = pandas.read_csv('Chevron_Finalized.csv')\n",
    "EF = pandas.read_csv('Exxon_Finalized.csv')\n",
    "FD = pandas.read_csv('Finalized_Data.csv')\n",
    "COP = pandas.read_csv('Crude_Oil_Production.csv')"
   ]
  },
  {
   "cell_type": "code",
   "execution_count": 16,
   "metadata": {},
   "outputs": [
    {
     "name": "stdout",
     "output_type": "stream",
     "text": [
      "           Breakdown         TTM    12/31/20     12/31/19     12/31/18  \\\n",
      "0      Total Revenue  95,842,000  94,471,000  139,865,000  158,902,000   \n",
      "1  Operating Revenue  95,842,000  94,471,000  139,865,000  158,902,000   \n",
      "2    Cost of Revenue  72,053,000  69,996,000  109,331,000  113,997,000   \n",
      "3       Gross Profit  23,789,000  24,475,000   30,534,000   44,905,000   \n",
      "4  Operating Expense  30,736,000  30,572,000   30,434,000   30,459,000   \n",
      "\n",
      "      12/31/17  \n",
      "0  134,674,000  \n",
      "1  134,674,000  \n",
      "2   95,114,000  \n",
      "3   39,560,000  \n",
      "4   37,080,000  \n"
     ]
    }
   ],
   "source": [
    "#making sure variables work\n",
    "print(Chevron.head())"
   ]
  },
  {
   "cell_type": "code",
   "execution_count": 14,
   "metadata": {},
   "outputs": [
    {
     "name": "stdout",
     "output_type": "stream",
     "text": [
      "           Breakdown          TTM     12/31/20     12/31/19     12/31/18  \\\n",
      "0      Total Revenue  180,992,000  178,574,000  255,583,000  279,332,000   \n",
      "1  Operating Revenue  180,992,000  178,574,000  255,583,000  279,332,000   \n",
      "2    Cost of Revenue  169,915,000  170,447,000  199,625,000  211,599,000   \n",
      "3       Gross Profit   11,077,000    8,127,000   55,958,000   67,733,000   \n",
      "4  Operating Expense   37,128,000   37,575,000   43,192,000   45,609,000   \n",
      "\n",
      "      12/31/17  \n",
      "0  237,162,000  \n",
      "1  237,162,000  \n",
      "2  182,238,000  \n",
      "3   54,924,000  \n",
      "4   42,850,000  \n"
     ]
    }
   ],
   "source": [
    "#making sure variables work\n",
    "print(Exxon.head())"
   ]
  },
  {
   "cell_type": "code",
   "execution_count": 18,
   "metadata": {},
   "outputs": [
    {
     "name": "stdout",
     "output_type": "stream",
     "text": [
      "           Breakdown          TTM     12/31/20     12/31/19     12/31/18  \\\n",
      "0  Operating Expense   30,736,000   30,572,000   30,434,000   30,459,000   \n",
      "1    Cost of Revenue   72,053,000   69,996,000  109,331,000  113,997,000   \n",
      "2     Total Expenses  102,789,000  100,568,000  139,765,000  144,456,000   \n",
      "\n",
      "      12/31/17  \n",
      "0   37,080,000  \n",
      "1   95,114,000  \n",
      "2  132,194,000  \n"
     ]
    }
   ],
   "source": [
    "#making sure variables work\n",
    "print(CF.head())"
   ]
  },
  {
   "cell_type": "code",
   "execution_count": 19,
   "metadata": {},
   "outputs": [
    {
     "name": "stdout",
     "output_type": "stream",
     "text": [
      "           Breakdown          TTM     12/31/20     12/31/19     12/31/18  \\\n",
      "0  Operating Expense   37,128,000   37,575,000   43,192,000   45,609,000   \n",
      "1    Cost of Revenue  169,915,000  170,447,000  199,625,000  211,599,000   \n",
      "2     Total Expenses  207,043,000  208,022,000  242,817,000  257,208,000   \n",
      "\n",
      "      12/31/17  \n",
      "0   42,850,000  \n",
      "1  182,238,000  \n",
      "2  225,088,000  \n"
     ]
    }
   ],
   "source": [
    "#making sure variables work\n",
    "print(EF.head())"
   ]
  },
  {
   "cell_type": "code",
   "execution_count": 23,
   "metadata": {},
   "outputs": [
    {
     "name": "stdout",
     "output_type": "stream",
     "text": [
      "             CHEVRON         TTM    12/31/20     12/31/19     12/31/18  \\\n",
      "0      Total Revenue  95,842,000  94,471,000  139,865,000  158,902,000   \n",
      "1  Operating Revenue  95,842,000  94,471,000  139,865,000  158,902,000   \n",
      "2    Cost of Revenue  72,053,000  69,996,000  109,331,000  113,997,000   \n",
      "3       Gross Profit  23,789,000  24,475,000   30,534,000   44,905,000   \n",
      "4  Operating Expense  30,736,000  30,572,000   30,434,000   30,459,000   \n",
      "\n",
      "      12/31/17  \n",
      "0  134,674,000  \n",
      "1  134,674,000  \n",
      "2   95,114,000  \n",
      "3   39,560,000  \n",
      "4   37,080,000  \n"
     ]
    }
   ],
   "source": [
    "#making sure variables work\n",
    "print(FD.head())"
   ]
  },
  {
   "cell_type": "code",
   "execution_count": 24,
   "metadata": {},
   "outputs": [
    {
     "name": "stdout",
     "output_type": "stream",
     "text": [
      "       Date  Field Production of Crude Oil (Thousand Barrels)\n",
      "0  Jan-1920                                             34008\n",
      "1  Feb-1920                                             33193\n",
      "2  Mar-1920                                             36171\n",
      "3  Apr-1920                                             34945\n",
      "4  May-1920                                             36622\n"
     ]
    }
   ],
   "source": [
    "#making sure variables work\n",
    "print(COP.head())"
   ]
  },
  {
   "cell_type": "code",
   "execution_count": 25,
   "metadata": {},
   "outputs": [
    {
     "data": {
      "text/html": [
       "<div>\n",
       "<style scoped>\n",
       "    .dataframe tbody tr th:only-of-type {\n",
       "        vertical-align: middle;\n",
       "    }\n",
       "\n",
       "    .dataframe tbody tr th {\n",
       "        vertical-align: top;\n",
       "    }\n",
       "\n",
       "    .dataframe thead th {\n",
       "        text-align: right;\n",
       "    }\n",
       "</style>\n",
       "<table border=\"1\" class=\"dataframe\">\n",
       "  <thead>\n",
       "    <tr style=\"text-align: right;\">\n",
       "      <th></th>\n",
       "      <th>Date</th>\n",
       "      <th>Field Production of Crude Oil (Thousand Barrels)</th>\n",
       "    </tr>\n",
       "  </thead>\n",
       "  <tbody>\n",
       "    <tr>\n",
       "      <th>0</th>\n",
       "      <td>Jan-1920</td>\n",
       "      <td>34008</td>\n",
       "    </tr>\n",
       "    <tr>\n",
       "      <th>1</th>\n",
       "      <td>Feb-1920</td>\n",
       "      <td>33193</td>\n",
       "    </tr>\n",
       "    <tr>\n",
       "      <th>2</th>\n",
       "      <td>Mar-1920</td>\n",
       "      <td>36171</td>\n",
       "    </tr>\n",
       "    <tr>\n",
       "      <th>3</th>\n",
       "      <td>Apr-1920</td>\n",
       "      <td>34945</td>\n",
       "    </tr>\n",
       "    <tr>\n",
       "      <th>4</th>\n",
       "      <td>May-1920</td>\n",
       "      <td>36622</td>\n",
       "    </tr>\n",
       "  </tbody>\n",
       "</table>\n",
       "</div>"
      ],
      "text/plain": [
       "       Date  Field Production of Crude Oil (Thousand Barrels)\n",
       "0  Jan-1920                                             34008\n",
       "1  Feb-1920                                             33193\n",
       "2  Mar-1920                                             36171\n",
       "3  Apr-1920                                             34945\n",
       "4  May-1920                                             36622"
      ]
     },
     "execution_count": 25,
     "metadata": {},
     "output_type": "execute_result"
    }
   ],
   "source": [
    "COP.head()"
   ]
  },
  {
   "cell_type": "code",
   "execution_count": null,
   "metadata": {},
   "outputs": [],
   "source": []
  }
 ],
 "metadata": {
  "kernelspec": {
   "display_name": "Python 3",
   "language": "python",
   "name": "python3"
  },
  "language_info": {
   "codemirror_mode": {
    "name": "ipython",
    "version": 3
   },
   "file_extension": ".py",
   "mimetype": "text/x-python",
   "name": "python",
   "nbconvert_exporter": "python",
   "pygments_lexer": "ipython3",
   "version": "3.8.5"
  }
 },
 "nbformat": 4,
 "nbformat_minor": 4
}
